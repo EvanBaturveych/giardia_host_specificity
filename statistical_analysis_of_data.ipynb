{
 "cells": [
  {
   "cell_type": "code",
   "execution_count": 59,
   "id": "8bc85a88-d856-45d8-ab00-694a9ae68f4d",
   "metadata": {},
   "outputs": [
    {
     "name": "stdout",
     "output_type": "stream",
     "text": [
      "Chi-squared statistic: 10.348\n",
      "P-value: 0.0012961877\n",
      "Degrees of freedom: 1\n",
      "Expected counts:\n",
      "[[444.35436893 321.64563107]\n",
      " [511.64563107 370.35436893]]\n",
      "Amino Acid: F\n"
     ]
    }
   ],
   "source": [
    "from scipy.stats import chi2_contingency\n",
    "\n",
    "\n",
    "human_counts = [477, 479]  \n",
    "animal_counts = [289, 403] \n",
    "\n",
    "\n",
    "contingency_table = [\n",
    "    [human_counts[0], animal_counts[0]],  \n",
    "    [human_counts[1], animal_counts[1]]  \n",
    "]\n",
    "\n",
    "chi2, p, dof, expected = chi2_contingency(contingency_table)\n",
    "\n",
    "print(f\"Chi-squared statistic: {chi2:.3f}\")\n",
    "print(f\"P-value: {p:.10f}\")\n",
    "print(f\"Degrees of freedom: {dof}\")\n",
    "print(\"Expected counts:\")\n",
    "print(expected)\n",
    "print(\"Amino Acid: F\")"
   ]
  },
  {
   "cell_type": "code",
   "execution_count": 56,
   "id": "0339bd7f-0195-409f-94aa-91efebebc10e",
   "metadata": {},
   "outputs": [
    {
     "name": "stdout",
     "output_type": "stream",
     "text": [
      "t-statistic = -0.5467683925347978\n",
      "p-value = 0.6733918981039281\n"
     ]
    }
   ],
   "source": [
    "from scipy.stats import ttest_ind\n",
    "\n",
    "human_group = [48.09, 46.22] \n",
    "animal_group = [45.49, 53.11]\n",
    "\n",
    "t_stat, p_value = ttest_ind(human_group, animal_group, equal_var=False)\n",
    "\n",
    "\n",
    "print(f\"t-statistic = {t_stat}\")\n",
    "print(f\"p-value = {p_value}\")\n"
   ]
  },
  {
   "cell_type": "code",
   "execution_count": null,
   "id": "ba3c0c05-4aec-4619-b519-c38100172acd",
   "metadata": {},
   "outputs": [],
   "source": []
  }
 ],
 "metadata": {
  "kernelspec": {
   "display_name": "Python 3 (ipykernel)",
   "language": "python",
   "name": "python3"
  },
  "language_info": {
   "codemirror_mode": {
    "name": "ipython",
    "version": 3
   },
   "file_extension": ".py",
   "mimetype": "text/x-python",
   "name": "python",
   "nbconvert_exporter": "python",
   "pygments_lexer": "ipython3",
   "version": "3.13.5"
  }
 },
 "nbformat": 4,
 "nbformat_minor": 5
}
