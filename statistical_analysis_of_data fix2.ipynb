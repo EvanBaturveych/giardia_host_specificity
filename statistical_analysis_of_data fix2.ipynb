{
 "cells": [
  {
   "cell_type": "code",
   "execution_count": 26,
   "id": "77edd8f8-0317-4f4e-a622-8ca40e95f547",
   "metadata": {},
   "outputs": [
    {
     "name": "stdout",
     "output_type": "stream",
     "text": [
      "P-value (scientific notation): 3.175e-147\n",
      "Amino Acid: S\n",
      "Group: A vs B\n"
     ]
    }
   ],
   "source": [
    "from scipy.stats import chi2_contingency\n",
    "\n",
    "Group_1 = [69989, 45250, 42510]  \n",
    "Group_2 = [67640, 36920, 44403] \n",
    "\n",
    "contingency_table = [[Group_1[i], Group_2[i]] for i in range(len(Group_1))]\n",
    "\n",
    "chi2, p, dof, expected = chi2_contingency(contingency_table)\n",
    "\n",
    "print(f\"P-value (scientific notation): {p:.3e}\")\n",
    "print(\"Amino Acid: S\")\n",
    "print(\"Group: A vs B\")"
   ]
  },
  {
   "cell_type": "code",
   "execution_count": 24,
   "id": "8bc85a88-d856-45d8-ab00-694a9ae68f4d",
   "metadata": {},
   "outputs": [
    {
     "name": "stdout",
     "output_type": "stream",
     "text": [
      "Chi-squared statistic: 366.401\n",
      "P-value (scientific notation): 1.137e-81\n",
      "Degrees of freedom: 1\n",
      "Expected counts:\n",
      "[[72157.8730158 65471.1269842]\n",
      " [43081.1269842 39088.8730158]]\n",
      "Amino Acid: F\n",
      "Group: A vs B\n"
     ]
    }
   ],
   "source": [
    "from scipy.stats import chi2_contingency\n",
    "\n",
    "\n",
    "Group_1 = [69989,45250,42510]  \n",
    "Group_2 = [67640,36920,44403] \n",
    "\n",
    "\n",
    "contingency_table = [\n",
    "    [Group_1[0], Group_2[0]],  \n",
    "    [Group_1[1], Group_2[1]]]\n",
    "\n",
    "chi2, p, dof, expected = chi2_contingency(contingency_table)\n",
    "\n",
    "print(f\"Chi-squared statistic: {chi2:.3f}\")\n",
    "print(f\"P-value (scientific notation): {p:.3e}\")\n",
    "print(f\"Degrees of freedom: {dof}\")\n",
    "print(\"Expected counts:\")\n",
    "print(expected)\n",
    "print(\"Amino Acid: F\")\n",
    "print(\"Group: A vs B\")"
   ]
  },
  {
   "cell_type": "code",
   "execution_count": 6,
   "id": "0339bd7f-0195-409f-94aa-91efebebc10e",
   "metadata": {},
   "outputs": [
    {
     "name": "stdout",
     "output_type": "stream",
     "text": [
      "t-statistic = nan\n",
      "p-value = nan\n"
     ]
    },
    {
     "name": "stderr",
     "output_type": "stream",
     "text": [
      "/opt/anaconda3/lib/python3.13/site-packages/scipy/_lib/deprecation.py:234: SmallSampleWarning: One or more sample arguments is too small; all returned values will be NaN. See documentation for sample size requirements.\n",
      "  return f(*args, **kwargs)\n"
     ]
    }
   ],
   "source": [
    "from scipy.stats import ttest_ind\n",
    "\n",
    "G1 = []\n",
    "G2 = []\n",
    "t_stat, p_value = ttest_ind(G1, G2, equal_var=False)\n",
    "\n",
    "\n",
    "print(f\"t-statistic = {t_stat}\")\n",
    "print(f\"p-value = {p_value}\")\n"
   ]
  },
  {
   "cell_type": "code",
   "execution_count": null,
   "id": "ba3c0c05-4aec-4619-b519-c38100172acd",
   "metadata": {},
   "outputs": [],
   "source": []
  }
 ],
 "metadata": {
  "kernelspec": {
   "display_name": "Python 3 (ipykernel)",
   "language": "python",
   "name": "python3"
  },
  "language_info": {
   "codemirror_mode": {
    "name": "ipython",
    "version": 3
   },
   "file_extension": ".py",
   "mimetype": "text/x-python",
   "name": "python",
   "nbconvert_exporter": "python",
   "pygments_lexer": "ipython3",
   "version": "3.13.5"
  }
 },
 "nbformat": 4,
 "nbformat_minor": 5
}
